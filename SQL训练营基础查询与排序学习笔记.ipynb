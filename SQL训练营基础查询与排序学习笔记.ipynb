{
 "cells": [
  {
   "cell_type": "markdown",
   "metadata": {
    "toc": true
   },
   "source": [
    "<h1>概要<span class=\"tocSkip\"></span></h1>\n",
    "<div class=\"toc\"><ul class=\"toc-item\"><li><span><a href=\"#SELECT语句基础\" data-toc-modified-id=\"SELECT语句基础-1\"><span class=\"toc-item-num\">1&nbsp;&nbsp;</span>SELECT语句基础</a></span><ul class=\"toc-item\"><li><span><a href=\"#从表中选取数据\" data-toc-modified-id=\"从表中选取数据-1.1\"><span class=\"toc-item-num\">1.1&nbsp;&nbsp;</span>从表中选取数据</a></span></li><li><span><a href=\"#从表中选取符合条件的数据\" data-toc-modified-id=\"从表中选取符合条件的数据-1.2\"><span class=\"toc-item-num\">1.2&nbsp;&nbsp;</span>从表中选取符合条件的数据</a></span></li><li><span><a href=\"#相关法则\" data-toc-modified-id=\"相关法则-1.3\"><span class=\"toc-item-num\">1.3&nbsp;&nbsp;</span>相关法则</a></span></li></ul></li><li><span><a href=\"#算术运算符和比较运算符\" data-toc-modified-id=\"算术运算符和比较运算符-2\"><span class=\"toc-item-num\">2&nbsp;&nbsp;</span>算术运算符和比较运算符</a></span><ul class=\"toc-item\"><li><span><a href=\"#算术运算符\" data-toc-modified-id=\"算术运算符-2.1\"><span class=\"toc-item-num\">2.1&nbsp;&nbsp;</span>算术运算符</a></span></li><li><span><a href=\"#比较运算符\" data-toc-modified-id=\"比较运算符-2.2\"><span class=\"toc-item-num\">2.2&nbsp;&nbsp;</span>比较运算符</a></span></li><li><span><a href=\"#常用法则\" data-toc-modified-id=\"常用法则-2.3\"><span class=\"toc-item-num\">2.3&nbsp;&nbsp;</span>常用法则</a></span></li></ul></li><li><span><a href=\"#逻辑运算符\" data-toc-modified-id=\"逻辑运算符-3\"><span class=\"toc-item-num\">3&nbsp;&nbsp;</span>逻辑运算符</a></span><ul class=\"toc-item\"><li><span><a href=\"#NOT运算符\" data-toc-modified-id=\"NOT运算符-3.1\"><span class=\"toc-item-num\">3.1&nbsp;&nbsp;</span>NOT运算符</a></span></li><li><span><a href=\"#AND运算符和OR运算符\" data-toc-modified-id=\"AND运算符和OR运算符-3.2\"><span class=\"toc-item-num\">3.2&nbsp;&nbsp;</span>AND运算符和OR运算符</a></span></li><li><span><a href=\"#通过括号优先处理\" data-toc-modified-id=\"通过括号优先处理-3.3\"><span class=\"toc-item-num\">3.3&nbsp;&nbsp;</span>通过括号优先处理</a></span></li><li><span><a href=\"#真值表\" data-toc-modified-id=\"真值表-3.4\"><span class=\"toc-item-num\">3.4&nbsp;&nbsp;</span>真值表</a></span></li><li><span><a href=\"#含有NULL时的真值\" data-toc-modified-id=\"含有NULL时的真值-3.5\"><span class=\"toc-item-num\">3.5&nbsp;&nbsp;</span>含有NULL时的真值</a></span></li></ul></li><li><span><a href=\"#对表进行聚合查询\" data-toc-modified-id=\"对表进行聚合查询-4\"><span class=\"toc-item-num\">4&nbsp;&nbsp;</span>对表进行聚合查询</a></span><ul class=\"toc-item\"><li><span><a href=\"#聚合函数\" data-toc-modified-id=\"聚合函数-4.1\"><span class=\"toc-item-num\">4.1&nbsp;&nbsp;</span>聚合函数</a></span></li><li><span><a href=\"#使用聚合函数删除重复值\" data-toc-modified-id=\"使用聚合函数删除重复值-4.2\"><span class=\"toc-item-num\">4.2&nbsp;&nbsp;</span>使用聚合函数删除重复值</a></span></li><li><span><a href=\"#常用法则\" data-toc-modified-id=\"常用法则-4.3\"><span class=\"toc-item-num\">4.3&nbsp;&nbsp;</span>常用法则</a></span></li></ul></li><li><span><a href=\"#对表进行分组\" data-toc-modified-id=\"对表进行分组-5\"><span class=\"toc-item-num\">5&nbsp;&nbsp;</span>对表进行分组</a></span><ul class=\"toc-item\"><li><span><a href=\"#GROUP-BY语句\" data-toc-modified-id=\"GROUP-BY语句-5.1\"><span class=\"toc-item-num\">5.1&nbsp;&nbsp;</span>GROUP BY语句</a></span></li><li><span><a href=\"#常见错误\" data-toc-modified-id=\"常见错误-5.2\"><span class=\"toc-item-num\">5.2&nbsp;&nbsp;</span>常见错误</a></span></li><li><span><a href=\"#HAVING\" data-toc-modified-id=\"HAVING-5.3\"><span class=\"toc-item-num\">5.3&nbsp;&nbsp;</span>HAVING</a></span></li></ul></li><li><span><a href=\"#对查询结果进行排序\" data-toc-modified-id=\"对查询结果进行排序-6\"><span class=\"toc-item-num\">6&nbsp;&nbsp;</span>对查询结果进行排序</a></span></li><li><span><a href=\"#学习问题与解答\" data-toc-modified-id=\"学习问题与解答-7\"><span class=\"toc-item-num\">7&nbsp;&nbsp;</span>学习问题与解答</a></span><ul class=\"toc-item\"><li><span><a href=\"#检索多个列\" data-toc-modified-id=\"检索多个列-7.1\"><span class=\"toc-item-num\">7.1&nbsp;&nbsp;</span>检索多个列</a></span></li><li><span><a href=\"#使用通配符-（*）的副作用\" data-toc-modified-id=\"使用通配符-（*）的副作用-7.2\"><span class=\"toc-item-num\">7.2&nbsp;&nbsp;</span>使用通配符 （*）的副作用</a></span></li><li><span><a href=\"#别名\" data-toc-modified-id=\"别名-7.3\"><span class=\"toc-item-num\">7.3&nbsp;&nbsp;</span>别名</a></span></li><li><span><a href=\"#能否与NULL比较\" data-toc-modified-id=\"能否与NULL比较-7.4\"><span class=\"toc-item-num\">7.4&nbsp;&nbsp;</span>能否与NULL比较</a></span></li></ul></li><li><span><a href=\"#思考与总结\" data-toc-modified-id=\"思考与总结-8\"><span class=\"toc-item-num\">8&nbsp;&nbsp;</span>思考与总结</a></span></li></ul></div>"
   ]
  },
  {
   "cell_type": "markdown",
   "metadata": {},
   "source": [
    "本笔记基于天池龙珠计划SQL训练营及菜鸟教程等，仅供学习使用。<br>\n",
    "语法：`语法`；实例：    实例（缩进）\n",
    "\n",
    "SQL训练营页面地址：https://tianchi.aliyun.com/specials/promotion/aicampsql <br>\n",
    "天池龙珠计划训练营地址：https://tianchi.aliyun.com/specials/promotion/aicamps<br>\n",
    "菜鸟教程：https://www.runoob.com <br>\n",
    "Ben Forta, (2009). *MySQL必知必会* . 人民邮电出版社"
   ]
  },
  {
   "cell_type": "markdown",
   "metadata": {},
   "source": [
    "# SELECT语句基础\n",
    "\n",
    "## 从表中选取数据\n",
    "\n",
    "`SELECT`语句：<br>\n",
    "从表中选取数据时需要使用`SELECT`语句。<br>\n",
    "通过`SELECT`语句查询并选取出必要数据的过程称为匹配查询或**查询（query）**。<br>\n",
    "基本`SELECT`语句包含了SELECT和FROM两个**子句（clause）**。\n",
    "\n",
    "`SELECT <列名>, ……\n",
    "   FROM <表名>;`"
   ]
  },
  {
   "cell_type": "markdown",
   "metadata": {},
   "source": [
    "## 从表中选取符合条件的数据\n",
    "\n",
    "WHERE语句：<br>\n",
    "SELECT 语句通过WHERE子句来指定查询数据的条件。在WHERE 子句中可以指定“某一列的值和这个字符串相等”或者“某一列的值大于这个数字”等条件。执行含有这些条件的SELECT语句，就可以查询出只符合该条件的记录了。\n",
    "\n",
    "`SELECT <列名>, ……   \n",
    "   FROM <表名>       \n",
    "  WHERE <条件表达式>;`\n",
    " \n",
    "    -- 用来选取product type列为衣服’的记录的SELECT语句\n",
    "    SELECT product_name, product_type             \n",
    "      FROM product                                \n",
    "     WHERE product_type = '衣服';                  \n",
    "    -- 也可以选取出不是查询条件的列（条件列与输出列不同）  \n",
    "    SELECT product_name                           \n",
    "      FROM product                                \n",
    "     WHERE product_type = '衣服';"
   ]
  },
  {
   "cell_type": "markdown",
   "metadata": {},
   "source": [
    "## 相关法则\n",
    "\n",
    "- 星号（*）代表全部列的意思。e.g. `SELECT * FROM <表名>;`\n",
    "- SQL中可以随意使用换行符，不影响语句执行（但不可插入空行）。\n",
    "- 设定汉语别名时需要使用双引号（\"）括起来。\n",
    "- 在SELECT语句中使用DISTINCT可以删除重复行。\n",
    "- 注释是SQL语句中用来标识说明或者注意事项的部分。分为1行注释\"-- \"和多行注释两种\"/* */\"。\n",
    "\n",
    "      -- SQL语句可以使用AS关键字为列设定别名（用中文时需要双引号（“”））\n",
    "      SELECT product_id     AS id,              \n",
    "             product_name   AS name,            \n",
    "             purchase_price AS \"进货单价\"        \n",
    "        FROM product;                           \n",
    "      -- 使用DISTINCT删除product_type列中重复的数据\n",
    "      SELECT DISTINCT product_type              \n",
    "        FROM product;"
   ]
  },
  {
   "cell_type": "markdown",
   "metadata": {},
   "source": [
    "# 算术运算符和比较运算符\n",
    "\n",
    "## 算术运算符\n",
    "\n",
    "|含义   |运算符| \n",
    "| :----|:---:| \n",
    "|加法   |+    |\n",
    "|减法   |-    |\n",
    "|乘法   |*    |\n",
    "|除法   |/    |"
   ]
  },
  {
   "cell_type": "markdown",
   "metadata": {},
   "source": [
    "## 比较运算符\n",
    "|运算符|含义     |\n",
    "|:----|:----   | \n",
    "|=\t  |和~相等  |\n",
    "|<>\t  |和~不相等|\n",
    "|>=\t  |大于等于~|\n",
    "|>\t  |大于~   |\n",
    "|<=\t  |小于等于~|\n",
    "|<\t  |小于~   |"
   ]
  },
  {
   "cell_type": "markdown",
   "metadata": {},
   "source": [
    "## 常用法则\n",
    "- `SELECT`子句中可以使用常数或者表达式。 \n",
    "- 使用比较运算符时一定要注意不等号和等号的位置。\n",
    "- 字符串类型的数据原则上按照字典顺序进行排序，不能与数字的大小顺序混淆。\n",
    "- 希望选取NULL记录时，需要在条件表达式中使用`IS NULL`运算符。希望选取不是NULL的记录时，需要在条件表达式中使用`IS NOT NULL`运算符。"
   ]
  },
  {
   "cell_type": "markdown",
   "metadata": {},
   "source": [
    "    -- SQL语句中也可以使用运算表达式\n",
    "    SELECT product_name, \n",
    "           sale_price, \n",
    "           sale_price * 2 AS \"sale_price x2\"\n",
    "      FROM product;\n",
    "    -- WHERE子句的条件表达式中也可以使用计算表达式\n",
    "    SELECT product_name, \n",
    "           sale_price, \n",
    "           purchase_price\n",
    "      FROM product\n",
    "     WHERE sale_price - purchase_price >= 500;\n",
    "    /* 对字符串使用不等号\n",
    "    首先创建chars并插入数据\n",
    "    选取出大于‘2’的SELECT语句*/\n",
    "    -- DDL：创建表\n",
    "    CREATE TABLE chars\n",
    "    (\n",
    "       chr CHAR（3）NOT NULL，\n",
    "       PRIMARY KEY（chr）\n",
    "    );\n",
    "    -- 选取出大于'2'的数据的SELECT语句('2'为字符串)\n",
    "    SELECT chr\n",
    "      FROM chars\n",
    "     WHERE chr > '2';\n",
    "    -- 选取NULL的记录\n",
    "    SELECT product_name，purchase_price\n",
    "      FROM product\n",
    "     WHERE purchase_price IS NULL;\n",
    "    -- 选取不为NULL的记录\n",
    "    SELECT product_name，purchase_price\n",
    "      FROM product\n",
    "     WHERE purchase_price IS NOT NULL;"
   ]
  },
  {
   "cell_type": "markdown",
   "metadata": {},
   "source": [
    "# 逻辑运算符\n",
    "\n",
    "##  NOT运算符\n",
    "想要表示“不是……”时，除了前文的<>运算符外，还存在另外一个表示否定、使用范围更广的运算符：`NOT`(不能单独使用)。\n",
    "\n",
    "    -- 选取出销售单价大于等于1000日元的记录\n",
    "    SELECT product_name, product_type, sale_price\n",
    "      FROM product\n",
    "     WHERE sale_price >= 1000;\n",
    "    -- 向代码清单2-30的查询条件中添加NOT运算符\n",
    "    SELECT product_name, product_type, sale_price\n",
    "      FROM product\n",
    "     WHERE NOT sale_price >= 1000;"
   ]
  },
  {
   "cell_type": "markdown",
   "metadata": {},
   "source": [
    "## AND运算符和OR运算符\n",
    "AND 相当于“并且”，类似数学中的取交集；  \n",
    "OR 相当于“或者”，类似数学中的取并集。\n",
    "\n",
    "AND运算符工作效果图：\n",
    "![AND运算符工作效果图](https://img.alicdn.com/imgextra/i2/O1CN01KFHgix1Lnay1mJisr_!!6000000001344-2-tps-733-378.png)\n",
    "\n",
    "OR运算符工作效果图：\n",
    "![OR运算符工作效果图](https://img.alicdn.com/imgextra/i2/O1CN01fAdYrN1aSj9qK2909_!!6000000003329-2-tps-740-387.png)"
   ]
  },
  {
   "cell_type": "markdown",
   "metadata": {},
   "source": [
    "## 通过括号优先处理\n",
    "    -- AND运算符优先于OR运算符，可通过使用括号让OR运算符先于AND运算符执行\n",
    "    SELECT product_name, product_type, regist_date\n",
    "      FROM product\n",
    "     WHERE product_type = '办公用品'\n",
    "       AND (regist_date = '2009-09-11'\n",
    "        OR  regist_date = '2009-09-20');"
   ]
  },
  {
   "cell_type": "markdown",
   "metadata": {},
   "source": [
    "## 真值表\n",
    "\n",
    "真值就是值为真（TRUE）或假 （FALSE）其中之一的值。  \n",
    "AND 运算符：两侧的真值都为真时返回真，除此之外都返回假。  \n",
    "OR 运算符：两侧的真值只要有一个不为假就返回真，只有当其两侧的真值都为假时才返回假。  \n",
    "NOT运算符：只是单纯的将真转换为假，将假转换为真。\n",
    "\n",
    "![](https://img.alicdn.com/imgextra/i4/O1CN01sTFbjs1JXRlrrb2KQ_!!6000000001038-2-tps-569-236.png)"
   ]
  },
  {
   "cell_type": "markdown",
   "metadata": {},
   "source": [
    "## 含有NULL时的真值\n",
    "NULL的真值结果既不为真，也不为假，其真值是除真假之外的第三种值——不确定（UNKNOWN）。  \n",
    "一般的逻辑运算并不存在这第三种值。SQL 之外的语言也基本上只使用真和假这两种真值。与通常的逻辑运算被称为二值逻辑相对，只有 SQL 中的逻辑运算被称为三值逻辑。\n",
    "\n",
    "![](https://img.alicdn.com/imgextra/i1/O1CN01TwEsH71Y9NBeHdXGF_!!6000000003016-2-tps-548-359.png)"
   ]
  },
  {
   "cell_type": "markdown",
   "metadata": {},
   "source": [
    "# 对表进行聚合查询\n",
    "\n",
    "## 聚合函数\n",
    "SQL中用于汇总的函数叫做聚合函数。以下五个是最常用的聚合函数：\n",
    "\n",
    "- COUNT：计算表中的记录数（行数）\n",
    "- SUM：计算表中数值列中数据的合计值\n",
    "- AVG：计算表中数值列中数据的平均值\n",
    "- MAX：求出表中任意列中数据的最大值\n",
    "- MIN：求出表中任意列中数据的最小值"
   ]
  },
  {
   "cell_type": "markdown",
   "metadata": {},
   "source": [
    "    -- 计算全部数据的行数（包含NULL）\n",
    "    SELECT COUNT(*)\n",
    "      FROM product;\n",
    "    -- 计算NULL以外数据的行数\n",
    "    SELECT COUNT(purchase_price)\n",
    "      FROM product;\n",
    "    -- 计算销售单价和进货单价的合计值\n",
    "    SELECT SUM(sale_price), \n",
    "           SUM(purchase_price) \n",
    "      FROM product;\n",
    "    -- 计算销售单价和进货单价的平均值\n",
    "    SELECT AVG(sale_price), \n",
    "           AVG(purchase_price)\n",
    "      FROM product;\n",
    "    -- MAX和MIN也可用于非数值型数据\n",
    "    SELECT MAX(regist_date), \n",
    "           MIN(regist_date)\n",
    "      FROM product;"
   ]
  },
  {
   "cell_type": "markdown",
   "metadata": {},
   "source": [
    "## 使用聚合函数删除重复值\n",
    "\n",
    "    -- 计算去除重复数据后的数据行数\n",
    "    SELECT COUNT(DISTINCT product_type)\n",
    "      FROM product;\n",
    "     \n",
    "    -- 是否使用DISTINCT时的动作差异（SUM函数）\n",
    "    SELECT SUM(sale_price), SUM(DISTINCT sale_price)\n",
    "      FROM product;"
   ]
  },
  {
   "cell_type": "markdown",
   "metadata": {},
   "source": [
    "## 常用法则\n",
    "- COUNT函数的结果根据参数的不同而不同。COUNT(\\*)会得到包含NULL的数据行数，而COUNT(<列名>)会得到NULL之外的数据行数。\n",
    "- 聚合函数会将NULL排除在外。但COUNT(\\*)例外，并不会排除NULL。\n",
    "- MAX/MIN函数几乎适用于所有数据类型的列。SUM/AVG函数只适用于数值类型的列。\n",
    "- 想要计算值的种类时，可以在COUNT函数的参数中使用DISTINCT。\n",
    "- 在聚合函数的参数中使用DISTINCT，可以删除重复数据。"
   ]
  },
  {
   "cell_type": "markdown",
   "metadata": {},
   "source": [
    "# 对表进行分组\n",
    "\n",
    "## GROUP BY语句\n",
    "GROUP BY语句可以将现有的数据按照某列来汇总统计，且将NULL作为一组特殊数据进行处理。  \n",
    "在GROUP BY子句中指定的列称为聚合键或者分组列。  \n",
    "GROUP BY的子句书写顺序有严格要求，不按要求会导致SQL无法正常执行。\n",
    "\n",
    "`SELECT <列名1>,<列名2>, <列名3>, ……     \n",
    "  FROM <表名>                          \n",
    " GROUP BY <列名1>, <列名2>, <列名3>, ……;`\n",
    " \n",
    "    -- 按照商品种类统计数据行数\n",
    "    SELECT product_type, COUNT(*)\n",
    "      FROM product\n",
    "     GROUP BY product_type;\n",
    "    -- 不含GROUP BY\n",
    "    SELECT product_type, COUNT(*)\n",
    "      FROM product\n",
    "    \n",
    "![](https://img.alicdn.com/imgextra/i1/O1CN018fCB0t1jZRVLUS0Xe_!!6000000004562-2-tps-454-286.png)"
   ]
  },
  {
   "cell_type": "markdown",
   "metadata": {},
   "source": [
    "## 常见错误\n",
    "在使用聚合函数及GROUP BY子句时，经常出现的错误有：\n",
    "\n",
    "- 在聚合函数的SELECT子句中写了聚合健以外的列：使用COUNT等聚合函数时，SELECT子句中如果出现列名，只能是GROUP BY子句中指定的列名（也就是聚合键）。\n",
    "- 在GROUP BY子句中使用列的别名：SELECT子句中可以通过AS来指定别名，但在GROUP BY中不能使用别名。因为在DBMS中 ,SELECT子句在GROUP BY子句后执行。\n",
    "- 在WHERE中使用聚合函数：原因是聚合函数的使用前提是结果集已经确定，而WHERE还处于确定结果集的过程中，所以相互矛盾会引发错误。 如果想指定条件，可以在SELECT，HAVING（下面马上会讲）以及ORDER BY子句中使用聚合函数。"
   ]
  },
  {
   "cell_type": "markdown",
   "metadata": {},
   "source": [
    "## HAVING\n",
    "HAVING和WHERE的差别：WHERE在数据分组前进行过滤，HAVING在数据分组后进行过滤。\n",
    "\n",
    "    -- 数字\n",
    "    SELECT product_type, COUNT(*)\n",
    "      FROM product\n",
    "     GROUP BY product_type\n",
    "    HAVING COUNT(*) = 2;\n",
    "    -- 错误形式（因为product_name不包含在GROUP BY聚合键中）\n",
    "    SELECT product_type, COUNT(*)\n",
    "      FROM product\n",
    "     GROUP BY product_type\n",
    "    HAVING product_name = '圆珠笔';"
   ]
  },
  {
   "cell_type": "markdown",
   "metadata": {},
   "source": [
    "# 对查询结果进行排序\n",
    "SQL中的执行结果是随机排列的，当需要按照特定顺序排序时，可以使用ORDER BY子句。\n",
    "默认为升序ASC排列，降序排列为DESC。  \n",
    "在 ORDER BY 子句中可以使用别名。  \n",
    "SQL在使用 HAVING 子句时，SELECT 语句的执行顺序为：  \n",
    "FROM → WHERE → GROUP BY → HAVING → SELECT → ORDER BY\n",
    "\n",
    "`SELECT <列名1>, <列名2>, <列名3>, ……     \n",
    "  FROM <表名>                           \n",
    " ORDER BY <排序基准列1>, <排序基准列2>, ……`\n",
    " \n",
    "    -- 降序排列\n",
    "    SELECT product_id, \n",
    "           product_name, \n",
    "           sale_price, \n",
    "           purchase_price\n",
    "      FROM product\n",
    "     ORDER BY sale_price DESC;\n",
    "    -- 多个排序键\n",
    "    SELECT product_id, \n",
    "           product_name, \n",
    "           sale_price, \n",
    "           purchase_price\n",
    "      FROM product\n",
    "     ORDER BY sale_price, product_id;\n",
    "     -- 当用于排序的列名中含有NULL时，NULL会在开头或末尾进行汇总。\n",
    "     SELECT product_id, \n",
    "            product_name, \n",
    "            sale_price, \n",
    "            purchase_price\n",
    "       FROM product\n",
    "      ORDER BY purchase_price;"
   ]
  },
  {
   "cell_type": "markdown",
   "metadata": {},
   "source": [
    "# 学习问题与解答\n",
    "\n",
    "## 检索多个列\n",
    "在选择多个列时，一定要在列名之间加上逗号，但最后一个列名后不加。如果在最后一个列名后加了逗号，将出现错误。\n",
    "\n",
    "## 使用通配符 （\\*）的副作用\n",
    "使用通配符检索不需要的列通常会降低检索和应用程序的性能。\n",
    "\n",
    "## 别名\n",
    "别名（alias）是一个字段或值的替换名。别名用AS关键字赋予。\n",
    "\n",
    "## 能否与NULL比较\n",
    "NULL不能用来作比较\n"
   ]
  },
  {
   "cell_type": "markdown",
   "metadata": {},
   "source": [
    "# 思考与总结\n",
    "SELECT语句可以从表中检索一个或多个数据列，可以使用WHERE子句指定搜索条件，并用AND和OR操作符组合成WHERE子句。  \n",
    "SQL可以对检索出的数据进行算术计算，用聚集函数用来汇总数，并对查询结果进行排序。  \n",
    "至此SELECT子句及其顺序：SELECT→FROM→WHERE→GROUP BY→HAVING→ORDER BY\n"
   ]
  }
 ],
 "metadata": {
  "kernelspec": {
   "display_name": "Python 3 (ipykernel)",
   "language": "python",
   "name": "python3"
  },
  "language_info": {
   "codemirror_mode": {
    "name": "ipython",
    "version": 3
   },
   "file_extension": ".py",
   "mimetype": "text/x-python",
   "name": "python",
   "nbconvert_exporter": "python",
   "pygments_lexer": "ipython3",
   "version": "3.9.6"
  },
  "toc": {
   "base_numbering": 1,
   "nav_menu": {},
   "number_sections": true,
   "sideBar": true,
   "skip_h1_title": false,
   "title_cell": "概要",
   "title_sidebar": "Contents",
   "toc_cell": true,
   "toc_position": {
    "height": "calc(100% - 180px)",
    "left": "10px",
    "top": "150px",
    "width": "311px"
   },
   "toc_section_display": true,
   "toc_window_display": true
  }
 },
 "nbformat": 4,
 "nbformat_minor": 4
}
