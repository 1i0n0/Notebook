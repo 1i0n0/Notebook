{
 "cells": [
  {
   "cell_type": "markdown",
   "metadata": {
    "toc": true
   },
   "source": [
    "<h1>概要<span class=\"tocSkip\"></span></h1>\n",
    "<div class=\"toc\"><ul class=\"toc-item\"><li><span><a href=\"#初识数据库\" data-toc-modified-id=\"初识数据库-1\"><span class=\"toc-item-num\">1&nbsp;&nbsp;</span>初识数据库</a></span><ul class=\"toc-item\"><li><span><a href=\"#DBMS的种类\" data-toc-modified-id=\"DBMS的种类-1.1\"><span class=\"toc-item-num\">1.1&nbsp;&nbsp;</span>DBMS的种类</a></span></li><li><span><a href=\"#RDBMS的常见系统结构\" data-toc-modified-id=\"RDBMS的常见系统结构-1.2\"><span class=\"toc-item-num\">1.2&nbsp;&nbsp;</span>RDBMS的常见系统结构</a></span></li></ul></li><li><span><a href=\"#初识SQL\" data-toc-modified-id=\"初识SQL-2\"><span class=\"toc-item-num\">2&nbsp;&nbsp;</span>初识SQL</a></span><ul class=\"toc-item\"><li><span><a href=\"#概念介绍\" data-toc-modified-id=\"概念介绍-2.1\"><span class=\"toc-item-num\">2.1&nbsp;&nbsp;</span>概念介绍</a></span></li><li><span><a href=\"#SQL的基本书写规则\" data-toc-modified-id=\"SQL的基本书写规则-2.2\"><span class=\"toc-item-num\">2.2&nbsp;&nbsp;</span>SQL的基本书写规则</a></span></li><li><span><a href=\"#数据库的创建-(CREATE-DATABASE-语句)\" data-toc-modified-id=\"数据库的创建-(CREATE-DATABASE-语句)-2.3\"><span class=\"toc-item-num\">2.3&nbsp;&nbsp;</span>数据库的创建 (CREATE DATABASE 语句)</a></span></li><li><span><a href=\"#表的创建-(CREATE-TABLE-语句)\" data-toc-modified-id=\"表的创建-(CREATE-TABLE-语句)-2.4\"><span class=\"toc-item-num\">2.4&nbsp;&nbsp;</span>表的创建 (CREATE TABLE 语句)</a></span></li><li><span><a href=\"#命名规则\" data-toc-modified-id=\"命名规则-2.5\"><span class=\"toc-item-num\">2.5&nbsp;&nbsp;</span>命名规则</a></span></li><li><span><a href=\"#数据类型的指定\" data-toc-modified-id=\"数据类型的指定-2.6\"><span class=\"toc-item-num\">2.6&nbsp;&nbsp;</span>数据类型的指定</a></span></li><li><span><a href=\"#约束的设置\" data-toc-modified-id=\"约束的设置-2.7\"><span class=\"toc-item-num\">2.7&nbsp;&nbsp;</span>约束的设置</a></span></li><li><span><a href=\"#表的删除和更新\" data-toc-modified-id=\"表的删除和更新-2.8\"><span class=\"toc-item-num\">2.8&nbsp;&nbsp;</span>表的删除和更新</a></span></li><li><span><a href=\"#向-product-表中插入数据\" data-toc-modified-id=\"向-product-表中插入数据-2.9\"><span class=\"toc-item-num\">2.9&nbsp;&nbsp;</span>向 product 表中插入数据</a></span></li></ul></li><li><span><a href=\"#学习问题与解答\" data-toc-modified-id=\"学习问题与解答-3\"><span class=\"toc-item-num\">3&nbsp;&nbsp;</span>学习问题与解答</a></span><ul class=\"toc-item\"><li><span><a href=\"#MySQL广泛应用的原因\" data-toc-modified-id=\"MySQL广泛应用的原因-3.1\"><span class=\"toc-item-num\">3.1&nbsp;&nbsp;</span>MySQL广泛应用的原因</a></span></li><li><span><a href=\"#创建一个已存在的表\" data-toc-modified-id=\"创建一个已存在的表-3.2\"><span class=\"toc-item-num\">3.2&nbsp;&nbsp;</span>创建一个已存在的表</a></span></li><li><span><a href=\"#SQL注释\" data-toc-modified-id=\"SQL注释-3.3\"><span class=\"toc-item-num\">3.3&nbsp;&nbsp;</span>SQL注释</a></span></li></ul></li><li><span><a href=\"#思考与总结\" data-toc-modified-id=\"思考与总结-4\"><span class=\"toc-item-num\">4&nbsp;&nbsp;</span>思考与总结</a></span></li></ul></div>"
   ]
  },
  {
   "cell_type": "markdown",
   "metadata": {},
   "source": [
    "本笔记基于天池龙珠计划SQL训练营及菜鸟教程等，仅供学习使用。<br>\n",
    "语法：`语法`；实例：***`实例`***\n",
    "\n",
    "SQL训练营页面地址：https://tianchi.aliyun.com/specials/promotion/aicampsql <br>\n",
    "天池龙珠计划训练营地址：https://tianchi.aliyun.com/specials/promotion/aicamps<br>\n",
    "菜鸟教程：https://www.runoob.com <br>\n",
    "Ben Forta, (2009). *MySQL必知必会* . 人民邮电出版社"
   ]
  },
  {
   "cell_type": "markdown",
   "metadata": {},
   "source": [
    "# 初识数据库\n",
    "\n",
    "数据库（Database，DB）是按照数据结构来组织、存储和管理数据的仓库。<br>\n",
    "数据库管理系统（Database Management System，DBMS）是用来管理数据库的计算机系统。<br>\n",
    "数据库中存储的表结构类似于excel中的行和列，在数据库中，行称为记录，它相当于一条记录，列称为字段，它代表了表中存储的数据项目。<br>\n",
    "行和列交汇的地方称为单元格，一个单元格中只能输入一条记录。\n",
    "\n",
    "![](https://img.alicdn.com/imgextra/i3/O1CN01zD5lrT1CMGnR7oQpa_!!6000000000066-0-tps-601-353.jpg)"
   ]
  },
  {
   "cell_type": "markdown",
   "metadata": {},
   "source": [
    "## DBMS的种类\n",
    "\n",
    "DBMS 主要通过数据的保存格式（数据库的种类）来进行分类，现阶段主要有以下 5 种类型。\n",
    "- 层次数据库（Hierarchical Database，HDB）\n",
    "- ***关系数据库***（Relational Database，RDB）是建立在关系模型基础上的数据库，借助于集合代数等数学概念和方法来处理数据库中的数据。\n",
    "- 面向对象数据库（Object Oriented Database，OODB）\n",
    "- XML数据库（XML Database，XMLDB）\n",
    "- 键值存储系统（Key-Value Store，KVS），举例：MongoDB\n",
    "\n",
    "关系数据库管理系统（Relational Database Management System，RDBMS）的特点：\n",
    "- 数据以表格的形式出现\n",
    "- 每行为各种记录名称\n",
    "- 每列为记录名称所对应的数据域\n",
    "- 许多的行和列组成一张表单\n",
    "- 若干的表单组成database\n",
    "\n",
    "具有代表性的RDBMS有：Oracle Database、SQL Server、DB2、PostgreSQL、***MySQL***"
   ]
  },
  {
   "cell_type": "markdown",
   "metadata": {},
   "source": [
    "## RDBMS的常见系统结构\n",
    "\n",
    "使用 RDBMS 时，最常见的系统结构就是客户端 / 服务器类型（C/S类型）<br>\n",
    "\n",
    "![C/S类型](https://img.alicdn.com/imgextra/i2/O1CN01kROUDI22ITX6Evayf_!!6000000007097-0-tps-567-333.jpg)"
   ]
  },
  {
   "cell_type": "markdown",
   "metadata": {},
   "source": [
    "# 初识SQL\n",
    "\n",
    "## 概念介绍\n",
    "\n",
    "SQL（Structured Query Language）是为操作数据库而开发的语言。<br>\n",
    "SQL 在1986年成为 ANSI（American National Standards Institute 美国国家标准化组织）的一项标准，在 1987 年成为国际标准化组织（ISO）标准。\n",
    "\n",
    "根据对 RDBMS 赋予的指令种类的不同，SQL 语句可以分为以下三类：\n",
    "- DDL（Data Definition Language，数据定义语言） 用来创建或者删除存储数据用的数据库以及数据库中的表等对象。包含：`CREATE`、`DROP`、`ALTER`\n",
    "- DML（Data Manipulation Language，数据操纵语言） 用来查询或者变更表中的记录。包含：`SELECT`、`INSERT`、`UPDATE`、`DELETE`\n",
    "- DCL（Data Control Language，数据控制语言） 用来确认或者取消对数据库中的数据进行的变更。除此之外，还可以对 RDBMS 的用户是否有权限操作数据库中的对象（数据库表等）进行设定。包含：`COMMIT`、`ROLLBACK`、`GRANT`、`REVOKE`"
   ]
  },
  {
   "cell_type": "markdown",
   "metadata": {},
   "source": [
    "## SQL的基本书写规则\n",
    "\n",
    "- SQL语句要以分号（ ; ）结尾\n",
    "- SQL不区分关键字的大小写，但是插入到表中的数据是区分大小写的\n",
    "- win 系统默认不区分表名及字段名的大小写; linux / mac 默认严格区分表名及字段名的大小写\n",
    "- 单词需要用半角空格或者换行来分隔"
   ]
  },
  {
   "cell_type": "markdown",
   "metadata": {},
   "source": [
    "## 数据库的创建 (CREATE DATABASE 语句)\n",
    "语法：\n",
    "`CREATE DATABASE < 数据库名称 >;`"
   ]
  },
  {
   "cell_type": "markdown",
   "metadata": {},
   "source": [
    "*创建数据库shop*<br>\n",
    "***`CREATE DATABASE shop;`***"
   ]
  },
  {
   "cell_type": "markdown",
   "metadata": {},
   "source": [
    "## 表的创建 (CREATE TABLE 语句)\n",
    "语法：\n",
    "\n",
    "`CREATE TABLE < 表名 >                  \n",
    "( < 列名 1> < 数据类型 > < 该列所需约束 > ,\n",
    "  < 列名 2> < 数据类型 > < 该列所需约束 > ,\n",
    "  < 列名 3> < 数据类型 > < 该列所需约束 > ,\n",
    "  .                                    \n",
    "  .                                    \n",
    "  .                                    \n",
    "  < 该表的约束 1> , < 该表的约束 2> ,……) ;`"
   ]
  },
  {
   "cell_type": "markdown",
   "metadata": {},
   "source": [
    "*创建商品表*<br>\n",
    "***`CREATE TABLE product(                  \n",
    "    product_id CHAR(4) NOT NULL,       \n",
    "    product_name VARCHAR(100) NOT NULL,\n",
    "    product_type VARCHAR(32) NOT NULL, \n",
    "    sale_price INTEGER,                \n",
    "    purchase_price INTEGER,            \n",
    "    regist_date DATE,                  \n",
    "    PRIMARY KEY(product_id)            \n",
    ");`***"
   ]
  },
  {
   "cell_type": "markdown",
   "metadata": {},
   "source": [
    "## 命名规则\n",
    "- 只能使用半角英文字母、数字、下划线（_）作为数据库、表和列的名称\n",
    "- 名称必须以半角英文字母开头\n",
    "\n",
    "![商品表和 product 表列名的对应关系](https://img.alicdn.com/imgextra/i2/O1CN01Rf1px41ttjCsSRlAc_!!6000000005960-2-tps-592-276.png)"
   ]
  },
  {
   "cell_type": "markdown",
   "metadata": {},
   "source": [
    "## 数据类型的指定\n",
    "数据库创建的表，所有的列都必须指定数据类型，每一列都不能存储与该列数据类型不符的数据。\n",
    "\n",
    "四种最基本的数据类型：\n",
    "\n",
    "- `INTEGER`：指定存储整数的列的数据类型（数字型），不能存储小数。\n",
    "\n",
    "- `CHAR`：存储定长字符串，当列中存储的字符串长度达不到最大长度的时候，使用半角空格进行补足，由于会浪费存储空间，所以一般不使用。\n",
    "\n",
    "- `VARCHAR`：存储可变长度字符串，可变长字符串即使字符数未达到最大长度，也不会用半角空格补足。\n",
    "\n",
    "- `DATE`：指定存储日期（年月日）的列的数据类型（日期型）。"
   ]
  },
  {
   "cell_type": "markdown",
   "metadata": {},
   "source": [
    "## 约束的设置\n",
    "约束是除了数据类型之外，对列中存储的数据进行限制或者追加条件的功能。\n",
    "约束可以在创建表时规定（通过`CREATE TABLE`语句），或者在表创建之后规定（通过`ALTER TABLE`语句）。\n",
    "\n",
    "- `NOT NULL` - 指示某列不能存储 NULL 值。\n",
    "- `UNIQUE` - 保证某列的每行必须有唯一的值。\n",
    "- `PRIMARY KEY` - 确保某列（或两个列多个列的结合）有*非空*且*唯一*标识，有助于更容易更快速地找到表中的一个特定的记录。\n",
    "- `FOREIGN KEY` - 保证一个表中的数据匹配另一个表中的值的参照完整性。\n",
    "- `CHECK` - 保证列中的值符合指定的条件。e.g. `CHECK (sale_price > 0)`\n",
    "- `DEFAULT` - 规定没有给列赋值时的默认值。e.g. `DEFAULT 0`"
   ]
  },
  {
   "cell_type": "markdown",
   "metadata": {},
   "source": [
    "## 表的删除和更新\n",
    "**`DROP TABLE`语句执行之后是无法恢复的，只能重新插入，请执行删除操作时无比要谨慎。**<br>\n",
    "**`ALTER TABLE`语句执行之后也无法恢复。误添的列可以通过 ALTER TABLE 语句删除，或者将表全部删除之后重新再创建。**<br>\n",
    "**使用`UPDATE`时要注意添加`WHERE`条件，否则将会将所有的行按照语句修改。**<br>\n",
    "\n",
    "\n",
    "\n",
    "删除表的语法：`DROP TABLE < 表名 >;`\n",
    "<br>*删除 product 表*<br>\n",
    "***`DROP TABLE product;`***\n",
    "\n",
    "\n",
    "添加列的 ALTER TABLE 语句：`ALTER TABLE < 表名 > ADD COLUMN < 列的定义 >;`\n",
    "<br>*添加一列可以存储100位的可变长字符串的 product_name_pinyin 列*<br>\n",
    "***`ALTER TABLE product ADD COLUMN product_name_pinyin VARCHAR(100);`***\n",
    "\n",
    "\n",
    "删除列的 ALTER TABLE 语句：`ALTER TABLE < 表名 > DROP COLUMN < 列名 >;`\n",
    "<br>*删除 product_name_pinyin 列*<br>\n",
    "***`ALTER TABLE product DROP COLUMN product_name_pinyin;`***\n",
    "\n",
    "\n",
    "清空表内容：`TRUNCATE TABLE TABLE_NAME;`\n",
    "<br>优点：相比`DROP`/`DELETE`，`TRUNCATE`用来清除数据时，速度最快。\n",
    "\n",
    "\n",
    "数据的更新：<br>\n",
    "`UPDATE <表名>                               \n",
    "SET <列名> = <表达式> [, <列名2>=<表达式2>...];\n",
    "WHERE <条件>;  -- 可选，非常重要。             \n",
    "ORDER BY 子句;  --可选                       \n",
    "LIMIT 子句; --可选` <br>                   \n",
    "***`-- 修改所有的注册时间                             \n",
    "UPDATE product                                  \n",
    "   SET regist_date = '2009-10-10';              \n",
    "-- 仅修改部分商品的单价                            \n",
    "UPDATE product                                  \n",
    "   SET sale_price = sale_price * 10             \n",
    " WHERE product_type = '厨房用具';                \n",
    "-- 将商品编号为0008的数据（圆珠笔）的登记日期更新为NULL\n",
    "UPDATE product                                  \n",
    "   SET regist_date = NULL                       \n",
    " WHERE product_id = '0008';`***\n",
    " \n",
    "和 INSERT 语句一样， UPDATE 语句也可以将 NULL 作为一个值来使用。<br>\n",
    "**但是，只有未设置 NOT NULL 约束和主键约束的列才可以清空为NULL。<br>\n",
    "如果将设置了上述约束的列更新为 NULL，就会出错，这点与INSERT 语句相同。**\n",
    "\n",
    "多列更新\n",
    "UPDATE 语句的 SET 子句支持同时将多个列作为更新对象。<br>\n",
    "`SET`子句中的列不仅可以是两列，还可以是三列或者更多。<br>\n",
    "***`-- 基础写法，一条UPDATE语句只更新一列         \n",
    "UPDATE product                            \n",
    "   SET sale_price = sale_price * 10       \n",
    " WHERE product_type = '厨房用具';          \n",
    "UPDATE product                            \n",
    "   SET purchase_price = purchase_price / 2\n",
    " WHERE product_type = '厨房用具';          \n",
    "-- 合并后的写法                             \n",
    "UPDATE product                            \n",
    "   SET sale_price = sale_price * 10,      \n",
    "       purchase_price = purchase_price / 2\n",
    " WHERE product_type = '厨房用具';  `*** "
   ]
  },
  {
   "cell_type": "markdown",
   "metadata": {},
   "source": [
    "## 向 product 表中插入数据\n",
    "\n",
    "插入数据基本语法：`INSERT INTO <表名> (列1, 列2, 列3, ……) VALUES (值1, 值2, 值3, ……);` \n",
    "<br>**如果省略表名后的列清单（列1，列2，列3，...）, 这时 VALUES子句的值会默认按照从左到右的顺序赋给每一列。**<br>\n",
    "INSERT 语句中想给某一列赋予 NULL 值时，可以直接在 VALUES子句的值清单中写入 NULL。\n",
    "想要插入 NULL 的列一定不能设置 NOT NULL 约束。\n",
    "\n",
    "***`-- 包含列清单                                                    \n",
    "INSERT INTO productins (product_id, product_name, product_type, \n",
    "                        sale_price, purchase_price, regist_date)\n",
    "VALUES ('0005', '高压锅', '厨房用具', 6800, 5000, '2009-01-15');  \n",
    "-- 省略列清单                                                     \n",
    "INSERT INTO productins                                           \n",
    "VALUES ('0005', '高压锅', '厨房用具', 6800, 5000, '2009-01-15');   \n",
    "-- 一行INSERT                                                     \n",
    "INSERT INTO productins                                           \n",
    "VALUES ('0002', '打孔器', '办公用品', 500, 320, '2009-09-11');     \n",
    "INSERT INTO productins                                           \n",
    "VALUES ('0003', '运动T恤', '衣服', 4000, 2800, NULL);              \n",
    "INSERT INTO productins                                           \n",
    "VALUES ('0004', '菜刀', '厨房用具', 3000, 2800, '2009-09-20');     \n",
    "-- 多行INSERT （ DB2、SQL、SQL Server、 PostgreSQL 和 MySQL多行插入）\n",
    "INSERT INTO productins                                           \n",
    "VALUES ('0002', '打孔器', '办公用品', 500, 320, '2009-09-11'),     \n",
    "       ('0003', '运动T恤', '衣服', 4000, 2800, NULL),              \n",
    "       ('0004', '菜刀', '厨房用具', 3000, 2800, '2009-09-20');  `***\n",
    "       \n",
    "`INSERT … SELECT`语句可从其他表复制数据。<br>\n",
    "\n",
    "***`-- 将商品表中的数据复制到商品复制表中\n",
    "INSERT INTO productocpy (product_id, product_name, product_type, sale_price, purchase_price, regist_date)\n",
    "SELECT product_id, product_name, product_type, sale_price, purchase_price, regist_date                   \n",
    "FROM Product;`***\n",
    "\n"
   ]
  },
  {
   "cell_type": "markdown",
   "metadata": {},
   "source": [
    "# 学习问题与解答\n",
    "\n",
    "## MySQL广泛应用的原因\n",
    "\n",
    "- 开源，成本低\n",
    "- 执行快\n",
    "- 可信赖\n",
    "- 简单易用\n",
    "\n",
    "## 创建一个已存在的表\n",
    "\n",
    "在创建新表时，指定的表名如果已经存在将出错。覆盖已有的表，首先应该手工删除该表，然后再重建它。<br>\n",
    "使用`CREATE TABLE IF NOT EXISTS <表名>`可以在一个表不存在时创建它。\n",
    "\n",
    "\n",
    "## SQL注释\n",
    "\n",
    "单行注释：\n",
    "- 使用`#`\n",
    "- 使用`-- ` (--后跟有一个空格)\n",
    "\n",
    "多行注释：\n",
    "- 使用/* */"
   ]
  },
  {
   "cell_type": "markdown",
   "metadata": {},
   "source": [
    "# 思考与总结\n",
    "数据库是将大量数据保存起来，通过计算机加工而成的可以进行高效访问的数据集合，可通过一个或多个不同的 API 用于创建，访问，管理，搜索和复制所保存的数据。而MySQL则是一个关系型数据库管理系统，开源且支持大型的数据库。<br>\n",
    "SQL语句可分为3类：DDL、DML、DCL，并以；结尾。<br>\n",
    "SQL中的关键字应统一大写/小写，命名名称必须以半角英文字母开头，可包含字母，数字及`_`，且尽量避免使用关键字。<br>\n",
    "创建表时，所有的列都必须指定数据类型，必要时添加约束或追加条件。执行表的删除和更新操作时要谨慎。\n"
   ]
  }
 ],
 "metadata": {
  "kernelspec": {
   "display_name": "Python 3 (ipykernel)",
   "language": "python",
   "name": "python3"
  },
  "language_info": {
   "codemirror_mode": {
    "name": "ipython",
    "version": 3
   },
   "file_extension": ".py",
   "mimetype": "text/x-python",
   "name": "python",
   "nbconvert_exporter": "python",
   "pygments_lexer": "ipython3",
   "version": "3.9.6"
  },
  "toc": {
   "base_numbering": 1,
   "nav_menu": {},
   "number_sections": true,
   "sideBar": true,
   "skip_h1_title": false,
   "title_cell": "概要",
   "title_sidebar": "Contents",
   "toc_cell": true,
   "toc_position": {
    "height": "calc(100% - 180px)",
    "left": "10px",
    "top": "150px",
    "width": "311px"
   },
   "toc_section_display": true,
   "toc_window_display": true
  }
 },
 "nbformat": 4,
 "nbformat_minor": 4
}
