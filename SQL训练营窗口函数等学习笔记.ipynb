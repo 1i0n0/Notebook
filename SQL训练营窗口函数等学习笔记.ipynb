{
 "cells": [
  {
   "cell_type": "markdown",
   "metadata": {
    "toc": true
   },
   "source": [
    "<h1>概要<span class=\"tocSkip\"></span></h1>\n",
    "<div class=\"toc\"><ul class=\"toc-item\"><li><span><a href=\"#窗口函数\" data-toc-modified-id=\"窗口函数-1\"><span class=\"toc-item-num\">1&nbsp;&nbsp;</span>窗口函数</a></span><ul class=\"toc-item\"><li><span><a href=\"#窗口函数概念及基本的使用方法\" data-toc-modified-id=\"窗口函数概念及基本的使用方法-1.1\"><span class=\"toc-item-num\">1.1&nbsp;&nbsp;</span>窗口函数概念及基本的使用方法</a></span></li></ul></li><li><span><a href=\"#窗口函数种类\" data-toc-modified-id=\"窗口函数种类-2\"><span class=\"toc-item-num\">2&nbsp;&nbsp;</span>窗口函数种类</a></span><ul class=\"toc-item\"><li><span><a href=\"#专用窗口函数\" data-toc-modified-id=\"专用窗口函数-2.1\"><span class=\"toc-item-num\">2.1&nbsp;&nbsp;</span>专用窗口函数</a></span></li><li><span><a href=\"#聚合函数在窗口函数上的使用\" data-toc-modified-id=\"聚合函数在窗口函数上的使用-2.2\"><span class=\"toc-item-num\">2.2&nbsp;&nbsp;</span>聚合函数在窗口函数上的使用</a></span></li></ul></li><li><span><a href=\"#窗口函数的的应用---计算移动平均\" data-toc-modified-id=\"窗口函数的的应用---计算移动平均-3\"><span class=\"toc-item-num\">3&nbsp;&nbsp;</span>窗口函数的的应用 - 计算移动平均</a></span><ul class=\"toc-item\"><li><span><a href=\"#窗口函数适用范围和注意事项\" data-toc-modified-id=\"窗口函数适用范围和注意事项-3.1\"><span class=\"toc-item-num\">3.1&nbsp;&nbsp;</span>窗口函数适用范围和注意事项</a></span></li></ul></li><li><span><a href=\"#GROUPING-运算符\" data-toc-modified-id=\"GROUPING-运算符-4\"><span class=\"toc-item-num\">4&nbsp;&nbsp;</span>GROUPING 运算符</a></span><ul class=\"toc-item\"><li><span><a href=\"#ROLLUP---计算合计及小计\" data-toc-modified-id=\"ROLLUP---计算合计及小计-4.1\"><span class=\"toc-item-num\">4.1&nbsp;&nbsp;</span>ROLLUP - 计算合计及小计</a></span></li></ul></li><li><span><a href=\"#学习问题与解答\" data-toc-modified-id=\"学习问题与解答-5\"><span class=\"toc-item-num\">5&nbsp;&nbsp;</span>学习问题与解答</a></span><ul class=\"toc-item\"><li><span><a href=\"#窗口函数的优点\" data-toc-modified-id=\"窗口函数的优点-5.1\"><span class=\"toc-item-num\">5.1&nbsp;&nbsp;</span>窗口函数的优点</a></span></li><li><span><a href=\"#窗口函数不指定PARTITION-BY的效果是什么？\" data-toc-modified-id=\"窗口函数不指定PARTITION-BY的效果是什么？-5.2\"><span class=\"toc-item-num\">5.2&nbsp;&nbsp;</span>窗口函数不指定PARTITION BY的效果是什么？</a></span></li></ul></li><li><span><a href=\"#思考与总结\" data-toc-modified-id=\"思考与总结-6\"><span class=\"toc-item-num\">6&nbsp;&nbsp;</span>思考与总结</a></span></li></ul></div>"
   ]
  },
  {
   "cell_type": "markdown",
   "metadata": {},
   "source": [
    "本笔记基于天池龙珠计划SQL训练营及菜鸟教程等，仅供学习使用。<br>\n",
    "语法：`语法`；实例：    实例（缩进）\n",
    "\n",
    "SQL训练营页面地址：https://tianchi.aliyun.com/specials/promotion/aicampsql <br>\n",
    "天池龙珠计划训练营地址：https://tianchi.aliyun.com/specials/promotion/aicamps<br>\n",
    "菜鸟教程：https://www.runoob.com <br>\n",
    "Ben Forta, (2009). *MySQL必知必会* . 人民邮电出版社"
   ]
  },
  {
   "cell_type": "markdown",
   "metadata": {},
   "source": [
    "# 窗口函数\n",
    "## 窗口函数概念及基本的使用方法\n",
    "窗口函数也称为OLAP函数。OLAP 是OnLine Analytical Processing 的简称，意思是对数据库数据进行实时分析处理。  \n",
    "为了便于理解，称之为窗口函数。常规的SELECT语句都是对整张表进行查询，而窗口函数可以让我们有选择的去某一部分数据进行汇总、计算和排序。  \n",
    "\n",
    "窗口函数的通用形式：\n",
    "\n",
    "    <窗口函数> OVER ([PARTITION BY <列名>]\n",
    "                         ORDER BY <排序用列名>)  \n",
    "                         \n",
    "\\[\\]中的内容可以省略。\n",
    "\n",
    "PARTITON BY 是用来分组，即选择要看哪个窗口，类似于GROUP BY 子句的分组功能，但是 PARTITION BY 子句并不具备GROUP BY 子句的汇总功能，并不会改变原始表中记录的行数。\n",
    "\n",
    "ORDER BY 是用来排序，即决定窗口内，是按那种规则(字段)来排序的。\n",
    "\n",
    "    SELECT product_name,\n",
    "           product_type,\n",
    "           sale_price,\n",
    "           RANK() OVER (PARTITION BY product_type\n",
    "                            ORDER BY sale_price) AS ranking\n",
    "      FROM product;\n",
    "      \n",
    "![结果](https://img.alicdn.com/imgextra/i4/O1CN01hMPJM61V3TF4JmnmT_!!6000000002597-2-tps-800-317.png)\n",
    "\n",
    "![作用](https://img.alicdn.com/imgextra/i1/O1CN01zRGM7Q1QPqVqS4cVW_!!6000000001969-2-tps-862-572.png)"
   ]
  },
  {
   "cell_type": "markdown",
   "metadata": {},
   "source": [
    "# 窗口函数种类\n",
    "窗口函数大致可以分为两类：\n",
    "\n",
    "- 将SUM、MAX、MIN等聚合函数用在窗口函数中\n",
    "- RANK、DENSE_RANK等排序用的专用窗口函数\n",
    "\n",
    "## 专用窗口函数\n",
    "- RANK 函数（英式排序）\n",
    "计算排序时，如果存在相同位次的记录，则会跳过之后的位次。e.g. 有 3 条记录排在第 1 位时：1 位、1 位、1 位、4 位……\n",
    "\n",
    "- DENSE_RANK 函数（中式排序）\n",
    "同样是计算排序，即使存在相同位次的记录，也不会跳过之后的位次。e.g. 有 3 条记录排在第 1 位时：1 位、1 位、1 位、2 位……\n",
    "\n",
    "- ROW_NUMBER 函数\n",
    "赋予唯一的连续位次。e.g. 有 3 条记录排在第 1 位时：1 位、2 位、3 位、4 位\n",
    "\n",
    "            SELECT product_name,\n",
    "                   product_type,\n",
    "                   sale_price,\n",
    "                   RANK() OVER (ORDER BY sale_price) AS ranking,\n",
    "                   DENSE_RANK() OVER (ORDER BY sale_price) AS dense_ranking,\n",
    "                   ROW_NUMBER() OVER (ORDER BY sale_price) AS row_num\n",
    "              FROM product;\n",
    "              \n",
    "![结果](https://img.alicdn.com/imgextra/i1/O1CN01z73HeN1f4yhiQefvw_!!6000000003954-2-tps-655-252.png)\n",
    "\n",
    "## 聚合函数在窗口函数上的使用\n",
    "聚合函数在开窗函数中的使用方法和之前的专用窗口函数一样，只是出来的结果是一个累计的聚合函数值。\n",
    "\n",
    "    SELECT product_id,\n",
    "           product_name,\n",
    "           sale_price,\n",
    "           SUM(sale_price) OVER (ORDER BY product_id) AS current_sum,\n",
    "           AVG(sale_price) OVER (ORDER BY product_id) AS current_avg  \n",
    "      FROM product;  \n",
    "      \n",
    "![SUM结果](https://img.alicdn.com/imgextra/i1/O1CN01kuRiqt1r7ygelUfjJ_!!6000000005585-2-tps-961-375.png)\n",
    "![AVG结果](https://img.alicdn.com/imgextra/i2/O1CN010hwdM325CTC0Yy29a_!!6000000007490-2-tps-953-376.png)  \n",
    "聚合函数结果是，按我们指定的排序，这里是product_id，当前所在行及之前所有的行的合计或均值。即累计到当前行的聚合。"
   ]
  },
  {
   "cell_type": "markdown",
   "metadata": {},
   "source": [
    "# 窗口函数的的应用 - 计算移动平均\n",
    "聚合函数在窗口函数使用时，计算的是累积到当前行的所有的数据的聚合。 实际上，还可以指定更加详细的汇总范围。该汇总范围成为框架(frame)。  \n",
    "语法\n",
    "\n",
    "    <窗口函数> OVER (ORDER BY <排序用列名>\n",
    "                     ROWS n PRECEDING )  \n",
    "                 \n",
    "    <窗口函数> OVER (ORDER BY <排序用列名>\n",
    "                     ROWS BETWEEN n PRECEDING AND n FOLLOWING)\n",
    "                     \n",
    "PRECEDING（“之前”），将框架指定为 “截止到之前 n 行”，加上自身行  \n",
    "FOLLOWING（“之后”），将框架指定为 “截止到之后 n 行”，加上自身行  \n",
    "BETWEEN 1 PRECEDING AND 1 FOLLOWING，将框架指定为 “之前1行” + “之后1行” + “自身”\n",
    "\n",
    "    SELECT product_id,\n",
    "           product_name,\n",
    "           sale_price,\n",
    "           AVG(sale_price) OVER (ORDER BY product_id\n",
    "                                  ROWS 2 PRECEDING) AS moving_avg,\n",
    "           AVG(sale_price) OVER (ORDER BY product_id\n",
    "                                  ROWS BETWEEN 1 PRECEDING \n",
    "                                           AND 1 FOLLOWING) AS moving_avg  \n",
    "      FROM product;\n",
    "      \n",
    "ROWS 2 PRECEDING：\n",
    "![结果1](https://img.alicdn.com/imgextra/i1/O1CN01l9qlat1JNN3u15JEj_!!6000000001016-2-tps-898-322.png)\n",
    "\n",
    "ROWS BETWEEN 1 PRECEDING AND 1 FOLLOWING：\n",
    "![结果2](https://img.alicdn.com/imgextra/i1/O1CN01aO6L4k1IiboQy4j3c_!!6000000000927-2-tps-920-323.png)\n",
    "\n",
    "## 窗口函数适用范围和注意事项\n",
    "- 原则上，窗口函数只能在 SELECT 子句中使用。\n",
    "- 窗口函数 OVER 中的 ORDER BY 子句并不会影响最终结果的排序。其只是用来决定窗口函数按何种顺序计算。"
   ]
  },
  {
   "cell_type": "markdown",
   "metadata": {},
   "source": [
    "# GROUPING 运算符\n",
    "\n",
    "## ROLLUP - 计算合计及小计\n",
    "常规的 GROUP BY 只能得到每个分类的小计，有时候还需要计算分类的合计，可以用 ROLLUP 关键字。  \n",
    "\n",
    "    SELECT product_type,\n",
    "           regist_date,\n",
    "           SUM(sale_price) AS sum_price\n",
    "      FROM product\n",
    "     GROUP BY product_type, regist_date WITH ROLLUP;  \n",
    "\n",
    "![ROLLUP结果](https://img.alicdn.com/imgextra/i3/O1CN01OHNT8D1ymT0dimN2J_!!6000000006621-2-tps-787-347.png)\n",
    "\n",
    "这里 ROLLUP 对 product_type, regist_date 两列进行合计汇总。结果实际上有三层聚合，如下图 模块3是常规的 GROUP BY 的结果，需要注意的是衣服有个注册日期为空的，这是本来数据就存在日期为空的，不是对衣服类别的合计；模块2和1是 ROLLUP 带来的合计，模块2是对产品种类的合计，模块1是对全部数据的总计。\n",
    "\n",
    "ROLLUP 可以对多列进行汇总求小计和合计。  \n",
    "![合计汇总](https://img.alicdn.com/imgextra/i4/O1CN01gvm1XU23SNifXBXR2_!!6000000007254-2-tps-577-361.png)"
   ]
  },
  {
   "cell_type": "markdown",
   "metadata": {},
   "source": [
    "# 学习问题与解答\n",
    "\n",
    "## 窗口函数的优点\n",
    "- 简单\n",
    "- 快速\n",
    "- 多功能\n",
    "\n",
    "## 窗口函数不指定PARTITION BY的效果是什么？\n",
    "所有数据将被看作为同一个分区，窗口范围仅限于当前行及以上。\n",
    "\n"
   ]
  },
  {
   "cell_type": "markdown",
   "metadata": {},
   "source": [
    "# 思考与总结\n",
    "窗口函数可以对查询中的每一行及其相关行执行计算，如分组排序等。"
   ]
  }
 ],
 "metadata": {
  "kernelspec": {
   "display_name": "Python 3 (ipykernel)",
   "language": "python",
   "name": "python3"
  },
  "language_info": {
   "codemirror_mode": {
    "name": "ipython",
    "version": 3
   },
   "file_extension": ".py",
   "mimetype": "text/x-python",
   "name": "python",
   "nbconvert_exporter": "python",
   "pygments_lexer": "ipython3",
   "version": "3.9.6"
  },
  "toc": {
   "base_numbering": 1,
   "nav_menu": {},
   "number_sections": true,
   "sideBar": true,
   "skip_h1_title": false,
   "title_cell": "概要",
   "title_sidebar": "Contents",
   "toc_cell": true,
   "toc_position": {
    "height": "calc(100% - 180px)",
    "left": "10px",
    "top": "150px",
    "width": "311px"
   },
   "toc_section_display": true,
   "toc_window_display": true
  }
 },
 "nbformat": 4,
 "nbformat_minor": 4
}
